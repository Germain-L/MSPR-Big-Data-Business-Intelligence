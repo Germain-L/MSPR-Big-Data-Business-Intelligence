{
 "cells": [
  {
   "cell_type": "code",
   "execution_count": 46,
   "metadata": {},
   "outputs": [],
   "source": [
    "import pandas as pd"
   ]
  },
  {
   "cell_type": "code",
   "execution_count": 47,
   "metadata": {},
   "outputs": [
    {
     "name": "stderr",
     "output_type": "stream",
     "text": [
      "/tmp/ipykernel_18930/3923221447.py:1: DtypeWarning: Columns (0,2) have mixed types. Specify dtype option on import or set low_memory=False.\n",
      "  df_2009 = pd.read_csv('2009.csv')\n",
      "/tmp/ipykernel_18930/3923221447.py:2: DtypeWarning: Columns (0,2) have mixed types. Specify dtype option on import or set low_memory=False.\n",
      "  df_2014 = pd.read_csv('2014.csv')\n",
      "/tmp/ipykernel_18930/3923221447.py:3: DtypeWarning: Columns (0,2) have mixed types. Specify dtype option on import or set low_memory=False.\n",
      "  df_2020 = pd.read_csv('2020.csv')\n"
     ]
    }
   ],
   "source": [
    "df_2009 = pd.read_csv('2009.csv')\n",
    "df_2014 = pd.read_csv('2014.csv')\n",
    "df_2020 = pd.read_csv('2020.csv')"
   ]
  },
  {
   "cell_type": "code",
   "execution_count": 48,
   "metadata": {},
   "outputs": [],
   "source": [
    "# Most of the columns have the words 'en 2009' or 'en 2014' or 'en 2020' in them, so we can remove them\n",
    "df_2009.columns = df_2009.columns.str.replace(' en 2009', '')\n",
    "df_2014.columns = df_2014.columns.str.replace(' en 2014', '')\n",
    "df_2020.columns = df_2020.columns.str.replace(' en 2020', '')"
   ]
  },
  {
   "cell_type": "code",
   "execution_count": 49,
   "metadata": {},
   "outputs": [],
   "source": [
    "cols_2009 = df_2009.columns\n",
    "cols_2014 = df_2014.columns\n",
    "cols_2020 = df_2020.columns\n",
    "\n",
    "# find the columns that are in all three dataframes\n",
    "common_cols = list(set(cols_2009) & set(cols_2014) & set(cols_2020))\n",
    "\n",
    "# filter the dataframes to only include the common columns\n",
    "df_2009 = df_2009[common_cols]\n",
    "df_2014 = df_2014[common_cols]\n",
    "df_2020 = df_2020[common_cols]"
   ]
  },
  {
   "cell_type": "code",
   "execution_count": 50,
   "metadata": {},
   "outputs": [],
   "source": [
    "# add year column to each dataframe\n",
    "df_2009['year'] = 2009\n",
    "df_2014['year'] = 2014\n",
    "df_2020['year'] = 2020"
   ]
  },
  {
   "cell_type": "code",
   "execution_count": 51,
   "metadata": {},
   "outputs": [],
   "source": [
    "# combine the dataframes\n",
    "df = pd.concat([df_2009, df_2014, df_2020])"
   ]
  },
  {
   "cell_type": "code",
   "execution_count": 52,
   "metadata": {},
   "outputs": [],
   "source": [
    "# save the combined dataframe to a new csv file\n",
    "df.to_csv('combined.csv', index=False)"
   ]
  }
 ],
 "metadata": {
  "kernelspec": {
   "display_name": ".venv",
   "language": "python",
   "name": "python3"
  },
  "language_info": {
   "codemirror_mode": {
    "name": "ipython",
    "version": 3
   },
   "file_extension": ".py",
   "mimetype": "text/x-python",
   "name": "python",
   "nbconvert_exporter": "python",
   "pygments_lexer": "ipython3",
   "version": "3.10.12"
  }
 },
 "nbformat": 4,
 "nbformat_minor": 2
}
