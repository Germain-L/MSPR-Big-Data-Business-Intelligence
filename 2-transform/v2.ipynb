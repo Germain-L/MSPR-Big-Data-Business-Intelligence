{
 "cells": [
  {
   "cell_type": "code",
   "execution_count": 1,
   "metadata": {},
   "outputs": [],
   "source": [
    "import pandas as pd\n",
    "import numpy as np\n",
    "import matplotlib.pyplot as plt\n",
    "import seaborn as sns\n",
    "import os\n",
    "import glob"
   ]
  },
  {
   "cell_type": "markdown",
   "metadata": {},
   "source": [
    "# 1995"
   ]
  },
  {
   "cell_type": "code",
   "execution_count": 2,
   "metadata": {},
   "outputs": [
    {
     "name": "stderr",
     "output_type": "stream",
     "text": [
      "/tmp/ipykernel_38777/2015173314.py:1: DtypeWarning: Columns (0) have mixed types. Specify dtype option on import or set low_memory=False.\n",
      "  df_1995 = pd.read_csv(\"../extract/csv/1995_tour_1.csv\")\n"
     ]
    }
   ],
   "source": [
    "df_1995 = pd.read_csv(\"../extract/csv/1995_tour_1.csv\")"
   ]
  },
  {
   "cell_type": "code",
   "execution_count": 3,
   "metadata": {},
   "outputs": [],
   "source": [
    "df_1995[\"annee\"] = 1995"
   ]
  },
  {
   "cell_type": "code",
   "execution_count": 4,
   "metadata": {},
   "outputs": [],
   "source": [
    "cols_communes = ['Code du département', 'Libellé du département', 'Code de la commune',\n",
    "                 'Libellé de la commune', 'Inscrits', 'Abstentions', '% Abs/Ins',\n",
    "                 'Votants', '% Vot/Ins', 'Blancs et nuls', '% BlNuls/Ins',\n",
    "                 '% BlNuls/Vot', 'Exprimés', '% Exp/Ins', '% Exp/Vot']\n",
    "cols_candidats = ['Sexe', 'Nom', 'Prénom', 'Voix', '% Voix/Ins', '% Voix/Exp']"
   ]
  },
  {
   "cell_type": "code",
   "execution_count": 5,
   "metadata": {},
   "outputs": [],
   "source": [
    "data = []"
   ]
  },
  {
   "cell_type": "code",
   "execution_count": 6,
   "metadata": {},
   "outputs": [
    {
     "name": "stderr",
     "output_type": "stream",
     "text": [
      "/tmp/ipykernel_38777/239017911.py:13: SettingWithCopyWarning: \n",
      "A value is trying to be set on a copy of a slice from a DataFrame.\n",
      "Try using .loc[row_indexer,col_indexer] = value instead\n",
      "\n",
      "See the caveats in the documentation: https://pandas.pydata.org/pandas-docs/stable/user_guide/indexing.html#returning-a-view-versus-a-copy\n",
      "  df_candidat['Candidat_ID'] = i\n"
     ]
    }
   ],
   "source": [
    "for i in range(9):  # Ajustez le 9 au nombre réel de candidats\n",
    "    if i == 0:\n",
    "        cols_selection = cols_communes + cols_candidats\n",
    "    else:\n",
    "        cols_selection = cols_communes + [f'{col}.{i}' for col in cols_candidats]\n",
    "    \n",
    "    # Renommage des colonnes pour enlever le suffixe pour les candidats suivants\n",
    "    if i == 0:\n",
    "        df_candidat = df_1995[cols_selection]\n",
    "    else:\n",
    "        df_candidat = df_1995[cols_selection].rename(columns={f'{col}.{i}': col for col in cols_candidats})\n",
    "    \n",
    "    df_candidat['Candidat_ID'] = i\n",
    "    data.append(df_candidat)"
   ]
  },
  {
   "cell_type": "code",
   "execution_count": 7,
   "metadata": {},
   "outputs": [],
   "source": [
    "df_final = pd.concat(data, ignore_index=True)"
   ]
  },
  {
   "cell_type": "code",
   "execution_count": 13,
   "metadata": {},
   "outputs": [],
   "source": [
    "df_final.to_csv(\"./export/1995_tour_1_clean.csv\", index=False)"
   ]
  },
  {
   "cell_type": "markdown",
   "metadata": {},
   "source": [
    "# 2002"
   ]
  },
  {
   "cell_type": "code",
   "execution_count": 16,
   "metadata": {},
   "outputs": [
    {
     "name": "stderr",
     "output_type": "stream",
     "text": [
      "/tmp/ipykernel_38777/185088282.py:1: DtypeWarning: Columns (0) have mixed types. Specify dtype option on import or set low_memory=False.\n",
      "  df_2002 = pd.read_csv(\"../extract/csv/2002_tour_1.csv\")\n"
     ]
    }
   ],
   "source": [
    "df_2002 = pd.read_csv(\"../extract/csv/2002_tour_1.csv\")"
   ]
  },
  {
   "cell_type": "code",
   "execution_count": 21,
   "metadata": {},
   "outputs": [],
   "source": [
    "cols_communes = ['Code du département', 'Libellé du département', 'Code de la commune',\n",
    "                 'Libellé de la commune', 'Inscrits', 'Abstentions', '% Abs/Ins',\n",
    "                 'Votants', '% Vot/Ins', 'Blancs et nuls', '% BlNuls/Ins',\n",
    "                 '% BlNuls/Vot', 'Exprimés', '% Exp/Ins', '% Exp/Vot']"
   ]
  },
  {
   "cell_type": "code",
   "execution_count": 22,
   "metadata": {},
   "outputs": [],
   "source": [
    "cols_candidats = ['Sexe', 'Nom', 'Prénom', 'Voix', '% Voix/Ins', '% Voix/Exp']"
   ]
  },
  {
   "cell_type": "code",
   "execution_count": 23,
   "metadata": {},
   "outputs": [],
   "source": [
    "data = []"
   ]
  },
  {
   "cell_type": "code",
   "execution_count": 24,
   "metadata": {},
   "outputs": [],
   "source": [
    "for i in range(16):  # Ajustez le 16 au nombre réel de candidats si nécessaire\n",
    "    # Pour le premier candidat, pas de suffixe. Pour les autres, ajoutez le suffixe\n",
    "    if i == 0:\n",
    "        cols_selection = cols_communes + cols_candidats\n",
    "        df_candidat = df_2002[cols_selection].copy()\n",
    "    else:\n",
    "        cols_selection = cols_communes + [f'{col}.{i}' for col in cols_candidats]\n",
    "        df_candidat = df_2002[cols_selection].copy().rename(columns={f'{col}.{i}': col for col in cols_candidats})\n",
    "    \n",
    "    df_candidat['Candidat_ID'] = i\n",
    "    data.append(df_candidat)"
   ]
  },
  {
   "cell_type": "code",
   "execution_count": 25,
   "metadata": {},
   "outputs": [],
   "source": [
    "df_final = pd.concat(data, ignore_index=True)"
   ]
  },
  {
   "cell_type": "code",
   "execution_count": 26,
   "metadata": {},
   "outputs": [],
   "source": [
    "df_final.to_csv(\"./export/2002_tour_1_clean.csv\", index=False)"
   ]
  },
  {
   "cell_type": "markdown",
   "metadata": {},
   "source": [
    "# 2007"
   ]
  },
  {
   "cell_type": "code",
   "execution_count": 27,
   "metadata": {},
   "outputs": [
    {
     "name": "stderr",
     "output_type": "stream",
     "text": [
      "/tmp/ipykernel_38777/3583780805.py:1: DtypeWarning: Columns (0) have mixed types. Specify dtype option on import or set low_memory=False.\n",
      "  df_2007 = pd.read_csv(\"../extract/csv/2007_tour_1.csv\")\n"
     ]
    }
   ],
   "source": [
    "df_2007 = pd.read_csv(\"../extract/csv/2007_tour_1.csv\")"
   ]
  },
  {
   "cell_type": "code",
   "execution_count": 31,
   "metadata": {},
   "outputs": [],
   "source": [
    "cols_communes = [\n",
    "    'Code du département', 'Libellé du département', 'Code de la commune',\n",
    "    'Libellé de la commune', 'Inscrits', 'Abstentions', '% Abs/Ins',\n",
    "    'Votants', '% Vot/Ins', 'Blancs et nuls', '% BlNuls/Ins',\n",
    "    '% BlNuls/Vot', 'Exprimés', '% Exp/Ins', '% Exp/Vot'\n",
    "]\n",
    "\n",
    "cols_candidats = [\n",
    "    'Sexe', 'Nom', 'Prénom', 'Voix', '% Voix/Ins', '% Voix/Exp'\n",
    "]\n",
    "\n",
    "data = []\n"
   ]
  },
  {
   "cell_type": "code",
   "execution_count": 30,
   "metadata": {},
   "outputs": [],
   "source": [
    "cols_candidats = [\n",
    "    'Sexe', 'Nom', 'Prénom', 'Voix', '% Voix/Ins', '% Voix/Exp'\n",
    "]"
   ]
  },
  {
   "cell_type": "code",
   "execution_count": 32,
   "metadata": {},
   "outputs": [],
   "source": [
    "# Il y a jusqu'à 12 candidats, donc nous bouclons de 0 à 11\n",
    "for i in range(12):  # Ajustez selon le nombre réel de candidats si nécessaire\n",
    "    # Pour le premier candidat, pas de suffixe. Pour les autres, ajoutez le suffixe\n",
    "    if i == 0:\n",
    "        cols_selection = cols_communes + cols_candidats\n",
    "        df_candidat = df_2007[cols_selection].copy()\n",
    "    else:\n",
    "        cols_selection = cols_communes + [f'{col}.{i}' for col in cols_candidats]\n",
    "        df_candidat = df_2007[cols_selection].copy().rename(columns={f'{col}.{i}': col for col in cols_candidats})\n",
    "    \n",
    "    df_candidat['Candidat_ID'] = i\n",
    "    data.append(df_candidat)"
   ]
  },
  {
   "cell_type": "code",
   "execution_count": 33,
   "metadata": {},
   "outputs": [],
   "source": [
    "df_final = pd.concat(data, ignore_index=True)"
   ]
  },
  {
   "cell_type": "code",
   "execution_count": 34,
   "metadata": {},
   "outputs": [],
   "source": [
    "df_final.to_csv(\"./export/2007_tour_1_clean.csv\", index=False)"
   ]
  },
  {
   "cell_type": "markdown",
   "metadata": {},
   "source": [
    "# 2012"
   ]
  },
  {
   "cell_type": "code",
   "execution_count": 35,
   "metadata": {},
   "outputs": [
    {
     "name": "stderr",
     "output_type": "stream",
     "text": [
      "/tmp/ipykernel_38777/4139665323.py:1: DtypeWarning: Columns (0) have mixed types. Specify dtype option on import or set low_memory=False.\n",
      "  df_2012 = pd.read_csv(\"../extract/csv/2012_tour_1.csv\")\n"
     ]
    }
   ],
   "source": [
    "df_2012 = pd.read_csv(\"../extract/csv/2012_tour_1.csv\")"
   ]
  },
  {
   "cell_type": "code",
   "execution_count": 37,
   "metadata": {},
   "outputs": [],
   "source": [
    "cols_communes = [\n",
    "    'Code du département', 'Libellé du département', 'Code de la commune',\n",
    "    'Libellé de la commune', 'Inscrits', 'Abstentions', '% Abs/Ins',\n",
    "    'Votants', '% Vot/Ins', 'Blancs et nuls', '% BlNuls/Ins',\n",
    "    '% BlNuls/Vot', 'Exprimés', '% Exp/Ins', '% Exp/Vot'\n",
    "]\n",
    "\n",
    "cols_candidats = [\n",
    "    'Sexe', 'Nom', 'Prénom', 'Voix', '% Voix/Ins', '% Voix/Exp'\n",
    "]\n",
    "\n",
    "data = []"
   ]
  },
  {
   "cell_type": "code",
   "execution_count": 38,
   "metadata": {},
   "outputs": [],
   "source": [
    "for i in range(10):  # Ajustez selon le nombre réel de candidats si nécessaire\n",
    "    # Pour le premier candidat, pas de suffixe. Pour les autres, ajoutez le suffixe\n",
    "    if i == 0:\n",
    "        cols_selection = cols_communes + cols_candidats\n",
    "        df_candidat = df_2012[cols_selection].copy()\n",
    "    else:\n",
    "        cols_selection = cols_communes + [f'{col}.{i}' for col in cols_candidats]\n",
    "        df_candidat = df_2012[cols_selection].copy().rename(columns={f'{col}.{i}': col for col in cols_candidats})\n",
    "    \n",
    "    df_candidat['Candidat_ID'] = i\n",
    "    data.append(df_candidat)"
   ]
  },
  {
   "cell_type": "code",
   "execution_count": 39,
   "metadata": {},
   "outputs": [],
   "source": [
    "df_final = pd.concat(data, ignore_index=True)"
   ]
  },
  {
   "cell_type": "code",
   "execution_count": 40,
   "metadata": {},
   "outputs": [],
   "source": [
    "df_final.to_csv(\"./export/2012_tour_1_clean.csv\", index=False)"
   ]
  },
  {
   "cell_type": "markdown",
   "metadata": {},
   "source": [
    "# 2017"
   ]
  },
  {
   "cell_type": "code",
   "execution_count": 41,
   "metadata": {},
   "outputs": [
    {
     "name": "stderr",
     "output_type": "stream",
     "text": [
      "/tmp/ipykernel_38777/1460579750.py:1: DtypeWarning: Columns (0) have mixed types. Specify dtype option on import or set low_memory=False.\n",
      "  df_2017 = pd.read_csv(\"../extract/csv/2017_tour_1.csv\")\n"
     ]
    }
   ],
   "source": [
    "df_2017 = pd.read_csv(\"../extract/csv/2017_tour_1.csv\")"
   ]
  },
  {
   "cell_type": "code",
   "execution_count": 43,
   "metadata": {},
   "outputs": [],
   "source": [
    "cols_communes = [\n",
    "    'Code du département', 'Libellé du département', 'Code de la commune',\n",
    "    'Libellé de la commune', 'Inscrits', 'Abstentions', '% Abs/Ins',\n",
    "    'Votants', '% Vot/Ins', 'Blancs', '% Blancs/Ins', '% Blancs/Vot',\n",
    "    'Nuls', '% Nuls/Ins', '% Nuls/Vot', 'Exprimés', '% Exp/Ins', '% Exp/Vot'\n",
    "]\n",
    "\n",
    "cols_candidats = [\n",
    "    'N°Panneau', 'Sexe', 'Nom', 'Prénom', 'Voix', '% Voix/Ins', '% Voix/Exp'\n",
    "]\n",
    "\n",
    "data = []"
   ]
  },
  {
   "cell_type": "code",
   "execution_count": 44,
   "metadata": {},
   "outputs": [],
   "source": [
    "for i in range(11):  # Ajustez selon le nombre réel de candidats si nécessaire\n",
    "    # Pour chaque candidat, ajustez les colonnes sélectionnées et renommez-les si nécessaire\n",
    "    if i == 0:\n",
    "        cols_selection = cols_communes + cols_candidats\n",
    "        df_candidat = df_2017[cols_selection].copy()\n",
    "    else:\n",
    "        cols_selection = cols_communes + [f'{col}.{i}' for col in cols_candidats]\n",
    "        df_candidat = df_2017[cols_selection].copy().rename(columns={f'{col}.{i}': col for col in cols_candidats})\n",
    "    \n",
    "    df_candidat['Candidat_ID'] = i\n",
    "    data.append(df_candidat)"
   ]
  },
  {
   "cell_type": "code",
   "execution_count": 45,
   "metadata": {},
   "outputs": [],
   "source": [
    "df_final = pd.concat(data, ignore_index=True)"
   ]
  },
  {
   "cell_type": "code",
   "execution_count": 46,
   "metadata": {},
   "outputs": [],
   "source": [
    "df_final.to_csv(\"./export/2017_tour_1_clean.csv\", index=False)"
   ]
  },
  {
   "cell_type": "markdown",
   "metadata": {},
   "source": [
    "# 2022"
   ]
  },
  {
   "cell_type": "code",
   "execution_count": 47,
   "metadata": {},
   "outputs": [
    {
     "name": "stderr",
     "output_type": "stream",
     "text": [
      "/tmp/ipykernel_38777/1472885439.py:1: DtypeWarning: Columns (0,6) have mixed types. Specify dtype option on import or set low_memory=False.\n",
      "  df_2022 = pd.read_csv(\"../extract/csv/2022_tour_1.csv\")\n"
     ]
    }
   ],
   "source": [
    "df_2022 = pd.read_csv(\"../extract/csv/2022_tour_1.csv\")"
   ]
  },
  {
   "cell_type": "code",
   "execution_count": 50,
   "metadata": {},
   "outputs": [],
   "source": [
    "cols_communes = [\n",
    "    'Code du département', 'Libellé du département', 'Code de la circonscription',\n",
    "    'Libellé de la circonscription', 'Code de la commune', 'Libellé de la commune',\n",
    "    'Code du b.vote', 'Inscrits', 'Abstentions', '% Abs/Ins', 'Votants', '% Vot/Ins',\n",
    "    'Blancs', '% Blancs/Ins', '% Blancs/Vot', 'Nuls', '% Nuls/Ins', '% Nuls/Vot',\n",
    "    'Exprimés', '% Exp/Ins', '% Exp/Vot'\n",
    "]\n",
    "\n",
    "cols_candidats = [\n",
    "    'N°Panneau', 'Sexe', 'Nom', 'Prénom', 'Voix', '% Voix/Ins', '% Voix/Exp'\n",
    "]\n",
    "\n",
    "data = []\n",
    "\n",
    "# Il y a jusqu'à 12 candidats, donc nous bouclons de 0 à 11\n",
    "for i in range(12):  # Ajustez selon le nombre réel de candidats si nécessaire\n",
    "    # Pour chaque candidat, ajustez les colonnes sélectionnées et renommez-les si nécessaire\n",
    "    if i == 0:\n",
    "        cols_selection = cols_communes + cols_candidats\n",
    "        df_candidat = df_2022[cols_selection].copy()\n",
    "    else:\n",
    "        cols_selection = cols_communes + [f'{col}.{i}' for col in cols_candidats]\n",
    "        df_candidat = df_2022[cols_selection].copy().rename(columns={f'{col}.{i}': col for col in cols_candidats})\n",
    "    \n",
    "    df_candidat['Candidat_ID'] = i\n",
    "    data.append(df_candidat)\n",
    "\n",
    "# Concaténation de tous les DataFrames de candidats en un seul\n",
    "df_final = pd.concat(data, ignore_index=True)\n",
    "\n",
    "df_final.to_csv(\"./export/2022_tour_1_clean.csv\", index=False)"
   ]
  }
 ],
 "metadata": {
  "kernelspec": {
   "display_name": "venv",
   "language": "python",
   "name": "python3"
  },
  "language_info": {
   "codemirror_mode": {
    "name": "ipython",
    "version": 3
   },
   "file_extension": ".py",
   "mimetype": "text/x-python",
   "name": "python",
   "nbconvert_exporter": "python",
   "pygments_lexer": "ipython3",
   "version": "3.11.5"
  }
 },
 "nbformat": 4,
 "nbformat_minor": 2
}
