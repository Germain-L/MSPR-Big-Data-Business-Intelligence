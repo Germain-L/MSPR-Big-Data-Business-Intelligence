{
 "cells": [
  {
   "cell_type": "markdown",
   "metadata": {},
   "source": [
    "# Objectif\n",
    "Le but de ce notebook est d'unifier les données des premiers tours des éléctions présidentielles en France de 1995 à 2022."
   ]
  },
  {
   "cell_type": "markdown",
   "metadata": {},
   "source": [
    "## Setup"
   ]
  },
  {
   "cell_type": "code",
   "execution_count": 38,
   "metadata": {},
   "outputs": [
    {
     "name": "stdout",
     "output_type": "stream",
     "text": [
      "Requirement already satisfied: matplotlib in /home/gmn/projects/MSPR-Big-Data-Business-Intelligence/venv/lib/python3.11/site-packages (3.8.2)\n",
      "Requirement already satisfied: seaborn in /home/gmn/projects/MSPR-Big-Data-Business-Intelligence/venv/lib/python3.11/site-packages (0.13.2)\n",
      "Requirement already satisfied: pandas in /home/gmn/projects/MSPR-Big-Data-Business-Intelligence/venv/lib/python3.11/site-packages (2.2.0)\n",
      "Requirement already satisfied: numpy in /home/gmn/projects/MSPR-Big-Data-Business-Intelligence/venv/lib/python3.11/site-packages (1.26.4)\n",
      "Requirement already satisfied: contourpy>=1.0.1 in /home/gmn/projects/MSPR-Big-Data-Business-Intelligence/venv/lib/python3.11/site-packages (from matplotlib) (1.2.0)\n",
      "Requirement already satisfied: cycler>=0.10 in /home/gmn/projects/MSPR-Big-Data-Business-Intelligence/venv/lib/python3.11/site-packages (from matplotlib) (0.12.1)\n",
      "Requirement already satisfied: fonttools>=4.22.0 in /home/gmn/projects/MSPR-Big-Data-Business-Intelligence/venv/lib/python3.11/site-packages (from matplotlib) (4.47.2)\n",
      "Requirement already satisfied: kiwisolver>=1.3.1 in /home/gmn/projects/MSPR-Big-Data-Business-Intelligence/venv/lib/python3.11/site-packages (from matplotlib) (1.4.5)\n",
      "Requirement already satisfied: packaging>=20.0 in /home/gmn/projects/MSPR-Big-Data-Business-Intelligence/venv/lib/python3.11/site-packages (from matplotlib) (23.2)\n",
      "Requirement already satisfied: pillow>=8 in /home/gmn/projects/MSPR-Big-Data-Business-Intelligence/venv/lib/python3.11/site-packages (from matplotlib) (10.2.0)\n",
      "Requirement already satisfied: pyparsing>=2.3.1 in /home/gmn/projects/MSPR-Big-Data-Business-Intelligence/venv/lib/python3.11/site-packages (from matplotlib) (3.1.1)\n",
      "Requirement already satisfied: python-dateutil>=2.7 in /home/gmn/projects/MSPR-Big-Data-Business-Intelligence/venv/lib/python3.11/site-packages (from matplotlib) (2.8.2)\n",
      "Requirement already satisfied: pytz>=2020.1 in /home/gmn/projects/MSPR-Big-Data-Business-Intelligence/venv/lib/python3.11/site-packages (from pandas) (2024.1)\n",
      "Requirement already satisfied: tzdata>=2022.7 in /home/gmn/projects/MSPR-Big-Data-Business-Intelligence/venv/lib/python3.11/site-packages (from pandas) (2023.4)\n",
      "Requirement already satisfied: six>=1.5 in /home/gmn/projects/MSPR-Big-Data-Business-Intelligence/venv/lib/python3.11/site-packages (from python-dateutil>=2.7->matplotlib) (1.16.0)\n",
      "\n",
      "\u001b[1m[\u001b[0m\u001b[34;49mnotice\u001b[0m\u001b[1;39;49m]\u001b[0m\u001b[39;49m A new release of pip is available: \u001b[0m\u001b[31;49m23.2.1\u001b[0m\u001b[39;49m -> \u001b[0m\u001b[32;49m24.0\u001b[0m\n",
      "\u001b[1m[\u001b[0m\u001b[34;49mnotice\u001b[0m\u001b[1;39;49m]\u001b[0m\u001b[39;49m To update, run: \u001b[0m\u001b[32;49mpip install --upgrade pip\u001b[0m\n",
      "Note: you may need to restart the kernel to use updated packages.\n"
     ]
    }
   ],
   "source": [
    "# %pip install matplotlib seaborn pandas numpy"
   ]
  },
  {
   "cell_type": "code",
   "execution_count": 39,
   "metadata": {},
   "outputs": [],
   "source": [
    "import pandas as pd\n",
    "import numpy as np\n",
    "import matplotlib.pyplot as plt\n",
    "import seaborn as sns\n",
    "import os\n",
    "import glob"
   ]
  },
  {
   "cell_type": "markdown",
   "metadata": {},
   "source": [
    "## Chargement des données"
   ]
  },
  {
   "cell_type": "code",
   "execution_count": 40,
   "metadata": {},
   "outputs": [
    {
     "name": "stderr",
     "output_type": "stream",
     "text": [
      "/tmp/ipykernel_14017/833307635.py:3: DtypeWarning: Columns (0) have mixed types. Specify dtype option on import or set low_memory=False.\n",
      "  df_1995 = pd.read_csv(\"../extract/csv/1995_tour_1.csv\")\n",
      "/tmp/ipykernel_14017/833307635.py:4: DtypeWarning: Columns (0) have mixed types. Specify dtype option on import or set low_memory=False.\n",
      "  df_2002 = pd.read_csv(\"../extract/csv/2002_tour_1.csv\")\n"
     ]
    },
    {
     "name": "stderr",
     "output_type": "stream",
     "text": [
      "/tmp/ipykernel_14017/833307635.py:5: DtypeWarning: Columns (0) have mixed types. Specify dtype option on import or set low_memory=False.\n",
      "  df_2007 = pd.read_csv(\"../extract/csv/2007_tour_1.csv\")\n",
      "/tmp/ipykernel_14017/833307635.py:6: DtypeWarning: Columns (0) have mixed types. Specify dtype option on import or set low_memory=False.\n",
      "  df_2012 = pd.read_csv(\"../extract/csv/2012_tour_1.csv\")\n",
      "/tmp/ipykernel_14017/833307635.py:7: DtypeWarning: Columns (0) have mixed types. Specify dtype option on import or set low_memory=False.\n",
      "  df_2017 = pd.read_csv(\"../extract/csv/2017_tour_1.csv\")\n",
      "/tmp/ipykernel_14017/833307635.py:8: DtypeWarning: Columns (0,6) have mixed types. Specify dtype option on import or set low_memory=False.\n",
      "  df_2022 = pd.read_csv(\"../extract/csv/2022_tour_1.csv\")\n"
     ]
    }
   ],
   "source": [
    "csv_files = glob.glob('../extract/csv/*')\n",
    "\n",
    "df_1995 = pd.read_csv(\"../extract/csv/1995_tour_1.csv\")\n",
    "df_2002 = pd.read_csv(\"../extract/csv/2002_tour_1.csv\")\n",
    "df_2007 = pd.read_csv(\"../extract/csv/2007_tour_1.csv\")\n",
    "df_2012 = pd.read_csv(\"../extract/csv/2012_tour_1.csv\")\n",
    "df_2017 = pd.read_csv(\"../extract/csv/2017_tour_1.csv\")\n",
    "df_2022 = pd.read_csv(\"../extract/csv/2022_tour_1.csv\")\n",
    "\n",
    "# empty dataframe\n",
    "df_final = pd.DataFrame()"
   ]
  },
  {
   "cell_type": "code",
   "execution_count": 41,
   "metadata": {},
   "outputs": [
    {
     "name": "stdout",
     "output_type": "stream",
     "text": [
      "Index(['Code du département', 'Libellé du département', 'Code de la commune',\n",
      "       'Libellé de la commune', 'Inscrits', 'Abstentions', '% Abs/Ins',\n",
      "       'Votants', '% Vot/Ins', 'Blancs et nuls', '% BlNuls/Ins',\n",
      "       '% BlNuls/Vot', 'Exprimés', '% Exp/Ins', '% Exp/Vot', 'Sexe', 'Nom',\n",
      "       'Prénom', 'Voix', '% Voix/Ins', '% Voix/Exp', 'Sexe.1', 'Nom.1',\n",
      "       'Prénom.1', 'Voix.1', '% Voix/Ins.1', '% Voix/Exp.1', 'Sexe.2', 'Nom.2',\n",
      "       'Prénom.2', 'Voix.2', '% Voix/Ins.2', '% Voix/Exp.2', 'Sexe.3', 'Nom.3',\n",
      "       'Prénom.3', 'Voix.3', '% Voix/Ins.3', '% Voix/Exp.3', 'Sexe.4', 'Nom.4',\n",
      "       'Prénom.4', 'Voix.4', '% Voix/Ins.4', '% Voix/Exp.4', 'Sexe.5', 'Nom.5',\n",
      "       'Prénom.5', 'Voix.5', '% Voix/Ins.5', '% Voix/Exp.5', 'Sexe.6', 'Nom.6',\n",
      "       'Prénom.6', 'Voix.6', '% Voix/Ins.6', '% Voix/Exp.6', 'Sexe.7', 'Nom.7',\n",
      "       'Prénom.7', 'Voix.7', '% Voix/Ins.7', '% Voix/Exp.7', 'Sexe.8', 'Nom.8',\n",
      "       'Prénom.8', 'Voix.8', '% Voix/Ins.8', '% Voix/Exp.8'],\n",
      "      dtype='object')\n",
      "Index(['Code du département', 'Libellé du département', 'Code de la commune',\n",
      "       'Libellé de la commune', 'Inscrits', 'Abstentions', '% Abs/Ins',\n",
      "       'Votants', '% Vot/Ins', 'Blancs et nuls',\n",
      "       ...\n",
      "       'Prénom.14', 'Voix.14', '% Voix/Ins.14', '% Voix/Exp.14', 'Sexe.15',\n",
      "       'Nom.15', 'Prénom.15', 'Voix.15', '% Voix/Ins.15', '% Voix/Exp.15'],\n",
      "      dtype='object', length=111)\n",
      "Index(['Code du département', 'Libellé du département', 'Code de la commune',\n",
      "       'Libellé de la commune', 'Inscrits', 'Abstentions', '% Abs/Ins',\n",
      "       'Votants', '% Vot/Ins', 'Blancs et nuls', '% BlNuls/Ins',\n",
      "       '% BlNuls/Vot', 'Exprimés', '% Exp/Ins', '% Exp/Vot', 'Sexe', 'Nom',\n",
      "       'Prénom', 'Voix', '% Voix/Ins', '% Voix/Exp', 'Sexe.1', 'Nom.1',\n",
      "       'Prénom.1', 'Voix.1', '% Voix/Ins.1', '% Voix/Exp.1', 'Sexe.2', 'Nom.2',\n",
      "       'Prénom.2', 'Voix.2', '% Voix/Ins.2', '% Voix/Exp.2', 'Sexe.3', 'Nom.3',\n",
      "       'Prénom.3', 'Voix.3', '% Voix/Ins.3', '% Voix/Exp.3', 'Sexe.4', 'Nom.4',\n",
      "       'Prénom.4', 'Voix.4', '% Voix/Ins.4', '% Voix/Exp.4', 'Sexe.5', 'Nom.5',\n",
      "       'Prénom.5', 'Voix.5', '% Voix/Ins.5', '% Voix/Exp.5', 'Sexe.6', 'Nom.6',\n",
      "       'Prénom.6', 'Voix.6', '% Voix/Ins.6', '% Voix/Exp.6', 'Sexe.7', 'Nom.7',\n",
      "       'Prénom.7', 'Voix.7', '% Voix/Ins.7', '% Voix/Exp.7', 'Sexe.8', 'Nom.8',\n",
      "       'Prénom.8', 'Voix.8', '% Voix/Ins.8', '% Voix/Exp.8', 'Sexe.9', 'Nom.9',\n",
      "       'Prénom.9', 'Voix.9', '% Voix/Ins.9', '% Voix/Exp.9', 'Sexe.10',\n",
      "       'Nom.10', 'Prénom.10', 'Voix.10', '% Voix/Ins.10', '% Voix/Exp.10',\n",
      "       'Sexe.11', 'Nom.11', 'Prénom.11', 'Voix.11', '% Voix/Ins.11',\n",
      "       '% Voix/Exp.11'],\n",
      "      dtype='object')\n",
      "Index(['Code du département', 'Libellé du département', 'Code de la commune',\n",
      "       'Libellé de la commune', 'Inscrits', 'Abstentions', '% Abs/Ins',\n",
      "       'Votants', '% Vot/Ins', 'Blancs et nuls', '% BlNuls/Ins',\n",
      "       '% BlNuls/Vot', 'Exprimés', '% Exp/Ins', '% Exp/Vot', 'Sexe', 'Nom',\n",
      "       'Prénom', 'Voix', '% Voix/Ins', '% Voix/Exp', 'Sexe.1', 'Nom.1',\n",
      "       'Prénom.1', 'Voix.1', '% Voix/Ins.1', '% Voix/Exp.1', 'Sexe.2', 'Nom.2',\n",
      "       'Prénom.2', 'Voix.2', '% Voix/Ins.2', '% Voix/Exp.2', 'Sexe.3', 'Nom.3',\n",
      "       'Prénom.3', 'Voix.3', '% Voix/Ins.3', '% Voix/Exp.3', 'Sexe.4', 'Nom.4',\n",
      "       'Prénom.4', 'Voix.4', '% Voix/Ins.4', '% Voix/Exp.4', 'Sexe.5', 'Nom.5',\n",
      "       'Prénom.5', 'Voix.5', '% Voix/Ins.5', '% Voix/Exp.5', 'Sexe.6', 'Nom.6',\n",
      "       'Prénom.6', 'Voix.6', '% Voix/Ins.6', '% Voix/Exp.6', 'Sexe.7', 'Nom.7',\n",
      "       'Prénom.7', 'Voix.7', '% Voix/Ins.7', '% Voix/Exp.7', 'Sexe.8', 'Nom.8',\n",
      "       'Prénom.8', 'Voix.8', '% Voix/Ins.8', '% Voix/Exp.8', 'Sexe.9', 'Nom.9',\n",
      "       'Prénom.9', 'Voix.9', '% Voix/Ins.9', '% Voix/Exp.9'],\n",
      "      dtype='object')\n",
      "Index(['Code du département', 'Libellé du département', 'Code de la commune',\n",
      "       'Libellé de la commune', 'Inscrits', 'Abstentions', '% Abs/Ins',\n",
      "       'Votants', '% Vot/Ins', 'Blancs', '% Blancs/Ins', '% Blancs/Vot',\n",
      "       'Nuls', '% Nuls/Ins', '% Nuls/Vot', 'Exprimés', '% Exp/Ins',\n",
      "       '% Exp/Vot', 'N°Panneau', 'Sexe', 'Nom', 'Prénom', 'Voix', '% Voix/Ins',\n",
      "       '% Voix/Exp', 'N°Panneau.1', 'Sexe.1', 'Nom.1', 'Prénom.1', 'Voix.1',\n",
      "       '% Voix/Ins.1', '% Voix/Exp.1', 'N°Panneau.2', 'Sexe.2', 'Nom.2',\n",
      "       'Prénom.2', 'Voix.2', '% Voix/Ins.2', '% Voix/Exp.2', 'N°Panneau.3',\n",
      "       'Sexe.3', 'Nom.3', 'Prénom.3', 'Voix.3', '% Voix/Ins.3', '% Voix/Exp.3',\n",
      "       'N°Panneau.4', 'Sexe.4', 'Nom.4', 'Prénom.4', 'Voix.4', '% Voix/Ins.4',\n",
      "       '% Voix/Exp.4', 'N°Panneau.5', 'Sexe.5', 'Nom.5', 'Prénom.5', 'Voix.5',\n",
      "       '% Voix/Ins.5', '% Voix/Exp.5', 'N°Panneau.6', 'Sexe.6', 'Nom.6',\n",
      "       'Prénom.6', 'Voix.6', '% Voix/Ins.6', '% Voix/Exp.6', 'N°Panneau.7',\n",
      "       'Sexe.7', 'Nom.7', 'Prénom.7', 'Voix.7', '% Voix/Ins.7', '% Voix/Exp.7',\n",
      "       'N°Panneau.8', 'Sexe.8', 'Nom.8', 'Prénom.8', 'Voix.8', '% Voix/Ins.8',\n",
      "       '% Voix/Exp.8', 'N°Panneau.9', 'Sexe.9', 'Nom.9', 'Prénom.9', 'Voix.9',\n",
      "       '% Voix/Ins.9', '% Voix/Exp.9', 'N°Panneau.10', 'Sexe.10', 'Nom.10',\n",
      "       'Prénom.10', 'Voix.10', '% Voix/Ins.10', '% Voix/Exp.10'],\n",
      "      dtype='object')\n",
      "Index(['Code du département', 'Libellé du département',\n",
      "       'Code de la circonscription', 'Libellé de la circonscription',\n",
      "       'Code de la commune', 'Libellé de la commune', 'Code du b.vote',\n",
      "       'Inscrits', 'Abstentions', '% Abs/Ins',\n",
      "       ...\n",
      "       'Unnamed: 95', 'Unnamed: 96', 'Unnamed: 97', 'Unnamed: 98',\n",
      "       'Unnamed: 99', 'Unnamed: 100', 'Unnamed: 101', 'Unnamed: 102',\n",
      "       'Unnamed: 103', 'Unnamed: 104'],\n",
      "      dtype='object', length=105)\n"
     ]
    }
   ],
   "source": [
    "print(df_1995.columns)\n",
    "print(df_2002.columns)\n",
    "print(df_2007.columns)\n",
    "print(df_2012.columns)\n",
    "print(df_2017.columns)\n",
    "print(df_2022.columns)"
   ]
  },
  {
   "cell_type": "code",
   "execution_count": null,
   "metadata": {},
   "outputs": [],
   "source": []
  }
 ],
 "metadata": {
  "kernelspec": {
   "display_name": "venv",
   "language": "python",
   "name": "python3"
  },
  "language_info": {
   "codemirror_mode": {
    "name": "ipython",
    "version": 3
   },
   "file_extension": ".py",
   "mimetype": "text/x-python",
   "name": "python",
   "nbconvert_exporter": "python",
   "pygments_lexer": "ipython3",
   "version": "3.11.5"
  }
 },
 "nbformat": 4,
 "nbformat_minor": 2
}
